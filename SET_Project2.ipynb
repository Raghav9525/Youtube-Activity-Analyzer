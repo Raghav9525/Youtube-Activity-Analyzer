{
 "cells": [
  {
   "cell_type": "code",
   "execution_count": 1,
   "id": "88e8b412",
   "metadata": {},
   "outputs": [],
   "source": [
    "import pandas as pd\n",
    "import numpy as np\n",
    "import nltk\n",
    "from nltk.corpus import stopwords\n",
    "import pickle\n"
   ]
  },
  {
   "cell_type": "code",
   "execution_count": 2,
   "id": "0bf64f3c",
   "metadata": {},
   "outputs": [],
   "source": [
    "#Text cleaning\n",
    "\n",
    "# 1. Remove special character\n",
    "# 2. Lower case\n",
    "# 3. stop words\n",
    "# 4. stemming\n"
   ]
  },
  {
   "cell_type": "code",
   "execution_count": 3,
   "id": "bb121860",
   "metadata": {},
   "outputs": [
    {
     "data": {
      "text/plain": [
       "(1600, 2)"
      ]
     },
     "execution_count": 3,
     "metadata": {},
     "output_type": "execute_result"
    }
   ],
   "source": [
    "df=pd.read_csv(\"SET2_dataSet_final12.csv\",encoding=\"iso-8859-1\")\n",
    "df.shape"
   ]
  },
  {
   "cell_type": "code",
   "execution_count": 4,
   "id": "c6ac1fa3",
   "metadata": {},
   "outputs": [
    {
     "data": {
      "text/html": [
       "<div>\n",
       "<style scoped>\n",
       "    .dataframe tbody tr th:only-of-type {\n",
       "        vertical-align: middle;\n",
       "    }\n",
       "\n",
       "    .dataframe tbody tr th {\n",
       "        vertical-align: top;\n",
       "    }\n",
       "\n",
       "    .dataframe thead th {\n",
       "        text-align: right;\n",
       "    }\n",
       "</style>\n",
       "<table border=\"1\" class=\"dataframe\">\n",
       "  <thead>\n",
       "    <tr style=\"text-align: right;\">\n",
       "      <th></th>\n",
       "      <th>Title</th>\n",
       "      <th>Category</th>\n",
       "    </tr>\n",
       "  </thead>\n",
       "  <tbody>\n",
       "    <tr>\n",
       "      <th>0</th>\n",
       "      <td>Madagascar Street Food!!! Super RARE Malagasy ...</td>\n",
       "      <td>Food</td>\n",
       "    </tr>\n",
       "    <tr>\n",
       "      <th>1</th>\n",
       "      <td>42 Foods You Need To Eat Before You Die</td>\n",
       "      <td>Food</td>\n",
       "    </tr>\n",
       "    <tr>\n",
       "      <th>2</th>\n",
       "      <td>Gordon Ramsayâs Top 5 Indian Dishes</td>\n",
       "      <td>Food</td>\n",
       "    </tr>\n",
       "    <tr>\n",
       "      <th>3</th>\n",
       "      <td>To Use Chopsticks - In About A Minute ð</td>\n",
       "      <td>Food</td>\n",
       "    </tr>\n",
       "    <tr>\n",
       "      <th>4</th>\n",
       "      <td>Trying Indian Food 1st Time!</td>\n",
       "      <td>Food</td>\n",
       "    </tr>\n",
       "  </tbody>\n",
       "</table>\n",
       "</div>"
      ],
      "text/plain": [
       "                                               Title Category\n",
       "0  Madagascar Street Food!!! Super RARE Malagasy ...     Food\n",
       "1            42 Foods You Need To Eat Before You Die     Food\n",
       "2              Gordon Ramsayâs Top 5 Indian Dishes     Food\n",
       "3         To Use Chopsticks - In About A Minute ð     Food\n",
       "4                       Trying Indian Food 1st Time!     Food"
      ]
     },
     "execution_count": 4,
     "metadata": {},
     "output_type": "execute_result"
    }
   ],
   "source": [
    "\n",
    "df.head()"
   ]
  },
  {
   "cell_type": "code",
   "execution_count": 5,
   "id": "b0ca4a87",
   "metadata": {},
   "outputs": [],
   "source": [
    "#convert title into lowercase\n",
    "\n",
    "def convert_lowercase(f_text):\n",
    "    return f_text.lower()"
   ]
  },
  {
   "cell_type": "code",
   "execution_count": 6,
   "id": "e6ce69ed",
   "metadata": {},
   "outputs": [
    {
     "data": {
      "text/plain": [
       "(1600, 2)"
      ]
     },
     "execution_count": 6,
     "metadata": {},
     "output_type": "execute_result"
    }
   ],
   "source": [
    "df.shape"
   ]
  },
  {
   "cell_type": "code",
   "execution_count": 7,
   "id": "cb5cae99",
   "metadata": {},
   "outputs": [
    {
     "data": {
      "text/html": [
       "<div>\n",
       "<style scoped>\n",
       "    .dataframe tbody tr th:only-of-type {\n",
       "        vertical-align: middle;\n",
       "    }\n",
       "\n",
       "    .dataframe tbody tr th {\n",
       "        vertical-align: top;\n",
       "    }\n",
       "\n",
       "    .dataframe thead th {\n",
       "        text-align: right;\n",
       "    }\n",
       "</style>\n",
       "<table border=\"1\" class=\"dataframe\">\n",
       "  <thead>\n",
       "    <tr style=\"text-align: right;\">\n",
       "      <th></th>\n",
       "      <th>Title</th>\n",
       "      <th>Category</th>\n",
       "    </tr>\n",
       "  </thead>\n",
       "  <tbody>\n",
       "    <tr>\n",
       "      <th>0</th>\n",
       "      <td>Madagascar Street Food!!! Super RARE Malagasy ...</td>\n",
       "      <td>Food</td>\n",
       "    </tr>\n",
       "    <tr>\n",
       "      <th>1</th>\n",
       "      <td>42 Foods You Need To Eat Before You Die</td>\n",
       "      <td>Food</td>\n",
       "    </tr>\n",
       "    <tr>\n",
       "      <th>2</th>\n",
       "      <td>Gordon Ramsayâs Top 5 Indian Dishes</td>\n",
       "      <td>Food</td>\n",
       "    </tr>\n",
       "  </tbody>\n",
       "</table>\n",
       "</div>"
      ],
      "text/plain": [
       "                                               Title Category\n",
       "0  Madagascar Street Food!!! Super RARE Malagasy ...     Food\n",
       "1            42 Foods You Need To Eat Before You Die     Food\n",
       "2              Gordon Ramsayâs Top 5 Indian Dishes     Food"
      ]
     },
     "execution_count": 7,
     "metadata": {},
     "output_type": "execute_result"
    }
   ],
   "source": [
    "df.head(3)"
   ]
  },
  {
   "cell_type": "code",
   "execution_count": 8,
   "id": "8d28c4ea",
   "metadata": {},
   "outputs": [],
   "source": [
    "#Removing special character\n",
    "\n",
    "def remove_special(title):\n",
    "    f_text=''\n",
    "    for i in title.split(' '): \n",
    "        for j in i:\n",
    "            if j.isalpha():\n",
    "               f_text=f_text+j \n",
    "        f_text=f_text+' '\n",
    "    return f_text"
   ]
  },
  {
   "cell_type": "code",
   "execution_count": 9,
   "id": "f1f93f55",
   "metadata": {},
   "outputs": [],
   "source": [
    "remove_special = remove_special\n",
    "pickle.dump(remove_special,open(\"remove_special.pkl\",'wb'))\n"
   ]
  },
  {
   "cell_type": "code",
   "execution_count": 10,
   "id": "db3aa6ab",
   "metadata": {},
   "outputs": [
    {
     "data": {
      "text/html": [
       "<div>\n",
       "<style scoped>\n",
       "    .dataframe tbody tr th:only-of-type {\n",
       "        vertical-align: middle;\n",
       "    }\n",
       "\n",
       "    .dataframe tbody tr th {\n",
       "        vertical-align: top;\n",
       "    }\n",
       "\n",
       "    .dataframe thead th {\n",
       "        text-align: right;\n",
       "    }\n",
       "</style>\n",
       "<table border=\"1\" class=\"dataframe\">\n",
       "  <thead>\n",
       "    <tr style=\"text-align: right;\">\n",
       "      <th></th>\n",
       "      <th>Title</th>\n",
       "      <th>Category</th>\n",
       "    </tr>\n",
       "  </thead>\n",
       "  <tbody>\n",
       "    <tr>\n",
       "      <th>0</th>\n",
       "      <td>Madagascar Street Food!!! Super RARE Malagasy ...</td>\n",
       "      <td>Food</td>\n",
       "    </tr>\n",
       "    <tr>\n",
       "      <th>1</th>\n",
       "      <td>42 Foods You Need To Eat Before You Die</td>\n",
       "      <td>Food</td>\n",
       "    </tr>\n",
       "    <tr>\n",
       "      <th>2</th>\n",
       "      <td>Gordon Ramsayâs Top 5 Indian Dishes</td>\n",
       "      <td>Food</td>\n",
       "    </tr>\n",
       "    <tr>\n",
       "      <th>3</th>\n",
       "      <td>To Use Chopsticks - In About A Minute ð</td>\n",
       "      <td>Food</td>\n",
       "    </tr>\n",
       "    <tr>\n",
       "      <th>4</th>\n",
       "      <td>Trying Indian Food 1st Time!</td>\n",
       "      <td>Food</td>\n",
       "    </tr>\n",
       "  </tbody>\n",
       "</table>\n",
       "</div>"
      ],
      "text/plain": [
       "                                               Title Category\n",
       "0  Madagascar Street Food!!! Super RARE Malagasy ...     Food\n",
       "1            42 Foods You Need To Eat Before You Die     Food\n",
       "2              Gordon Ramsayâs Top 5 Indian Dishes     Food\n",
       "3         To Use Chopsticks - In About A Minute ð     Food\n",
       "4                       Trying Indian Food 1st Time!     Food"
      ]
     },
     "execution_count": 10,
     "metadata": {},
     "output_type": "execute_result"
    }
   ],
   "source": [
    "df.head(5)"
   ]
  },
  {
   "cell_type": "code",
   "execution_count": 11,
   "id": "4e2154e5",
   "metadata": {},
   "outputs": [],
   "source": [
    "df['Title']=df['Title'].apply(remove_special)\n"
   ]
  },
  {
   "cell_type": "code",
   "execution_count": 12,
   "id": "a052af12",
   "metadata": {},
   "outputs": [],
   "source": [
    "df['Category'].replace({'computer science':0, 'Food':1, 'Art&Music':2,'other':3 },inplace=True)\n"
   ]
  },
  {
   "cell_type": "code",
   "execution_count": 13,
   "id": "d4146885",
   "metadata": {},
   "outputs": [
    {
     "data": {
      "text/html": [
       "<div>\n",
       "<style scoped>\n",
       "    .dataframe tbody tr th:only-of-type {\n",
       "        vertical-align: middle;\n",
       "    }\n",
       "\n",
       "    .dataframe tbody tr th {\n",
       "        vertical-align: top;\n",
       "    }\n",
       "\n",
       "    .dataframe thead th {\n",
       "        text-align: right;\n",
       "    }\n",
       "</style>\n",
       "<table border=\"1\" class=\"dataframe\">\n",
       "  <thead>\n",
       "    <tr style=\"text-align: right;\">\n",
       "      <th></th>\n",
       "      <th>Title</th>\n",
       "      <th>Category</th>\n",
       "    </tr>\n",
       "  </thead>\n",
       "  <tbody>\n",
       "    <tr>\n",
       "      <th>0</th>\n",
       "      <td>Madagascar Street Food Super RARE Malagasy Vil...</td>\n",
       "      <td>1</td>\n",
       "    </tr>\n",
       "    <tr>\n",
       "      <th>1</th>\n",
       "      <td>Foods You Need To Eat Before You Die</td>\n",
       "      <td>1</td>\n",
       "    </tr>\n",
       "    <tr>\n",
       "      <th>2</th>\n",
       "      <td>Gordon Ramsayâs Top  Indian Dishes</td>\n",
       "      <td>1</td>\n",
       "    </tr>\n",
       "    <tr>\n",
       "      <th>3</th>\n",
       "      <td>To Use Chopsticks  In About A Minute ð</td>\n",
       "      <td>1</td>\n",
       "    </tr>\n",
       "    <tr>\n",
       "      <th>4</th>\n",
       "      <td>Trying Indian Food st Time</td>\n",
       "      <td>1</td>\n",
       "    </tr>\n",
       "    <tr>\n",
       "      <th>5</th>\n",
       "      <td>Blippi Tours the Chocolate Factory  Learn abou...</td>\n",
       "      <td>1</td>\n",
       "    </tr>\n",
       "    <tr>\n",
       "      <th>6</th>\n",
       "      <td>EGYPT Vegetarian food  Mobile Sim  Indian Spy</td>\n",
       "      <td>1</td>\n",
       "    </tr>\n",
       "    <tr>\n",
       "      <th>7</th>\n",
       "      <td>Chinese Street Food Liuhe Tourist Night Market</td>\n",
       "      <td>1</td>\n",
       "    </tr>\n",
       "  </tbody>\n",
       "</table>\n",
       "</div>"
      ],
      "text/plain": [
       "                                               Title  Category\n",
       "0  Madagascar Street Food Super RARE Malagasy Vil...         1\n",
       "1              Foods You Need To Eat Before You Die          1\n",
       "2                Gordon Ramsayâs Top  Indian Dishes          1\n",
       "3            To Use Chopsticks  In About A Minute ð          1\n",
       "4                        Trying Indian Food st Time          1\n",
       "5  Blippi Tours the Chocolate Factory  Learn abou...         1\n",
       "6    EGYPT Vegetarian food  Mobile Sim  Indian Spy           1\n",
       "7    Chinese Street Food Liuhe Tourist Night Market          1"
      ]
     },
     "execution_count": 13,
     "metadata": {},
     "output_type": "execute_result"
    }
   ],
   "source": [
    "df.head(8)"
   ]
  },
  {
   "cell_type": "code",
   "execution_count": 14,
   "id": "76590984",
   "metadata": {
    "scrolled": true
   },
   "outputs": [
    {
     "data": {
      "text/html": [
       "<div>\n",
       "<style scoped>\n",
       "    .dataframe tbody tr th:only-of-type {\n",
       "        vertical-align: middle;\n",
       "    }\n",
       "\n",
       "    .dataframe tbody tr th {\n",
       "        vertical-align: top;\n",
       "    }\n",
       "\n",
       "    .dataframe thead th {\n",
       "        text-align: right;\n",
       "    }\n",
       "</style>\n",
       "<table border=\"1\" class=\"dataframe\">\n",
       "  <thead>\n",
       "    <tr style=\"text-align: right;\">\n",
       "      <th></th>\n",
       "      <th>Title</th>\n",
       "      <th>Category</th>\n",
       "    </tr>\n",
       "  </thead>\n",
       "  <tbody>\n",
       "    <tr>\n",
       "      <th>1592</th>\n",
       "      <td>The Best Winter Sports Destinations Skiing Sno...</td>\n",
       "      <td>3</td>\n",
       "    </tr>\n",
       "    <tr>\n",
       "      <th>1593</th>\n",
       "      <td>The Best Wildlife Destinations A Journey Throu...</td>\n",
       "      <td>3</td>\n",
       "    </tr>\n",
       "    <tr>\n",
       "      <th>1594</th>\n",
       "      <td>The Best Beaches for Surfing Riding the Waves ...</td>\n",
       "      <td>3</td>\n",
       "    </tr>\n",
       "    <tr>\n",
       "      <th>1595</th>\n",
       "      <td>Exploring the Best Spa Destinations Relaxation...</td>\n",
       "      <td>3</td>\n",
       "    </tr>\n",
       "    <tr>\n",
       "      <th>1596</th>\n",
       "      <td>The Best Camping Destinations Sleeping Under t...</td>\n",
       "      <td>3</td>\n",
       "    </tr>\n",
       "    <tr>\n",
       "      <th>1597</th>\n",
       "      <td>A Journey Through Latin America Discovering th...</td>\n",
       "      <td>3</td>\n",
       "    </tr>\n",
       "    <tr>\n",
       "      <th>1598</th>\n",
       "      <td>The Best Destinations for Road Cycling Riding ...</td>\n",
       "      <td>3</td>\n",
       "    </tr>\n",
       "    <tr>\n",
       "      <th>1599</th>\n",
       "      <td>The Best Destinations for Food and Wine Lovers...</td>\n",
       "      <td>3</td>\n",
       "    </tr>\n",
       "  </tbody>\n",
       "</table>\n",
       "</div>"
      ],
      "text/plain": [
       "                                                  Title  Category\n",
       "1592  The Best Winter Sports Destinations Skiing Sno...         3\n",
       "1593  The Best Wildlife Destinations A Journey Throu...         3\n",
       "1594  The Best Beaches for Surfing Riding the Waves ...         3\n",
       "1595  Exploring the Best Spa Destinations Relaxation...         3\n",
       "1596  The Best Camping Destinations Sleeping Under t...         3\n",
       "1597  A Journey Through Latin America Discovering th...         3\n",
       "1598  The Best Destinations for Road Cycling Riding ...         3\n",
       "1599  The Best Destinations for Food and Wine Lovers...         3"
      ]
     },
     "execution_count": 14,
     "metadata": {},
     "output_type": "execute_result"
    }
   ],
   "source": [
    "df.tail(8)"
   ]
  },
  {
   "cell_type": "code",
   "execution_count": 15,
   "id": "17212bb5",
   "metadata": {},
   "outputs": [],
   "source": [
    "def remove_stopWords(f_text):\n",
    "    stop_w = set(stopwords.words('english'))\n",
    "    x=[]\n",
    "    for i in f_text.split():\n",
    "        if i not in stop_w:\n",
    "            x.append(i)\n",
    "    f_sentance=x[:]\n",
    "    x.clear()\n",
    "    return f_sentance"
   ]
  },
  {
   "cell_type": "code",
   "execution_count": 16,
   "id": "502ec376",
   "metadata": {},
   "outputs": [],
   "source": [
    "remove_stopWords = remove_stopWords\n",
    "pickle.dump(remove_stopWords,open(\"remove_stopWords.pkl\",'wb'))"
   ]
  },
  {
   "cell_type": "code",
   "execution_count": 17,
   "id": "66fd8f22",
   "metadata": {},
   "outputs": [
    {
     "data": {
      "text/html": [
       "<div>\n",
       "<style scoped>\n",
       "    .dataframe tbody tr th:only-of-type {\n",
       "        vertical-align: middle;\n",
       "    }\n",
       "\n",
       "    .dataframe tbody tr th {\n",
       "        vertical-align: top;\n",
       "    }\n",
       "\n",
       "    .dataframe thead th {\n",
       "        text-align: right;\n",
       "    }\n",
       "</style>\n",
       "<table border=\"1\" class=\"dataframe\">\n",
       "  <thead>\n",
       "    <tr style=\"text-align: right;\">\n",
       "      <th></th>\n",
       "      <th>Title</th>\n",
       "      <th>Category</th>\n",
       "    </tr>\n",
       "  </thead>\n",
       "  <tbody>\n",
       "    <tr>\n",
       "      <th>0</th>\n",
       "      <td>[Madagascar, Street, Food, Super, RARE, Malaga...</td>\n",
       "      <td>1</td>\n",
       "    </tr>\n",
       "    <tr>\n",
       "      <th>1</th>\n",
       "      <td>[Foods, You, Need, To, Eat, Before, You, Die]</td>\n",
       "      <td>1</td>\n",
       "    </tr>\n",
       "    <tr>\n",
       "      <th>2</th>\n",
       "      <td>[Gordon, Ramsayâs, Top, Indian, Dishes]</td>\n",
       "      <td>1</td>\n",
       "    </tr>\n",
       "  </tbody>\n",
       "</table>\n",
       "</div>"
      ],
      "text/plain": [
       "                                               Title  Category\n",
       "0  [Madagascar, Street, Food, Super, RARE, Malaga...         1\n",
       "1      [Foods, You, Need, To, Eat, Before, You, Die]         1\n",
       "2            [Gordon, Ramsayâs, Top, Indian, Dishes]         1"
      ]
     },
     "execution_count": 17,
     "metadata": {},
     "output_type": "execute_result"
    }
   ],
   "source": [
    "df['Title']=df['Title'].apply(remove_stopWords)\n",
    "df.head(3)"
   ]
  },
  {
   "cell_type": "code",
   "execution_count": 18,
   "id": "1d13ae80",
   "metadata": {},
   "outputs": [],
   "source": [
    "#Word stemming\n",
    "from nltk.stem.porter import PorterStemmer\n",
    "ps=PorterStemmer()\n",
    "\n",
    "def stem_word(text):\n",
    "    y=[]\n",
    "    for i in text:\n",
    "        y.append(ps.stem(i))\n",
    "    z=y[:]\n",
    "    y.clear()\n",
    "    return z"
   ]
  },
  {
   "cell_type": "code",
   "execution_count": 19,
   "id": "c9536c91",
   "metadata": {},
   "outputs": [],
   "source": [
    "stem_word = stem_word\n",
    "pickle.dump(stem_word,open(\"stem_word.pkl\",'wb'))"
   ]
  },
  {
   "cell_type": "code",
   "execution_count": 20,
   "id": "e29eb015",
   "metadata": {},
   "outputs": [
    {
     "data": {
      "text/html": [
       "<div>\n",
       "<style scoped>\n",
       "    .dataframe tbody tr th:only-of-type {\n",
       "        vertical-align: middle;\n",
       "    }\n",
       "\n",
       "    .dataframe tbody tr th {\n",
       "        vertical-align: top;\n",
       "    }\n",
       "\n",
       "    .dataframe thead th {\n",
       "        text-align: right;\n",
       "    }\n",
       "</style>\n",
       "<table border=\"1\" class=\"dataframe\">\n",
       "  <thead>\n",
       "    <tr style=\"text-align: right;\">\n",
       "      <th></th>\n",
       "      <th>Title</th>\n",
       "      <th>Category</th>\n",
       "    </tr>\n",
       "  </thead>\n",
       "  <tbody>\n",
       "    <tr>\n",
       "      <th>1597</th>\n",
       "      <td>[a, journey, through, latin, america, discov, ...</td>\n",
       "      <td>3</td>\n",
       "    </tr>\n",
       "    <tr>\n",
       "      <th>1598</th>\n",
       "      <td>[the, best, destin, road, cycl, ride, through,...</td>\n",
       "      <td>3</td>\n",
       "    </tr>\n",
       "    <tr>\n",
       "      <th>1599</th>\n",
       "      <td>[the, best, destin, food, wine, lover, a, jour...</td>\n",
       "      <td>3</td>\n",
       "    </tr>\n",
       "  </tbody>\n",
       "</table>\n",
       "</div>"
      ],
      "text/plain": [
       "                                                  Title  Category\n",
       "1597  [a, journey, through, latin, america, discov, ...         3\n",
       "1598  [the, best, destin, road, cycl, ride, through,...         3\n",
       "1599  [the, best, destin, food, wine, lover, a, jour...         3"
      ]
     },
     "execution_count": 20,
     "metadata": {},
     "output_type": "execute_result"
    }
   ],
   "source": [
    "df['Title']=df['Title'].apply(stem_word)\n",
    "df.tail(3)"
   ]
  },
  {
   "cell_type": "code",
   "execution_count": 21,
   "id": "fa902b03",
   "metadata": {},
   "outputs": [],
   "source": [
    "#join list to make string\n",
    "\n",
    "def join_back(list_input):\n",
    "    return \" \".join(list_input)\n"
   ]
  },
  {
   "cell_type": "code",
   "execution_count": 22,
   "id": "ac7e46aa",
   "metadata": {},
   "outputs": [],
   "source": [
    "df['Title']=df['Title'].apply(join_back)\n"
   ]
  },
  {
   "cell_type": "code",
   "execution_count": 23,
   "id": "130ec566",
   "metadata": {},
   "outputs": [],
   "source": [
    "df['Title']=df['Title'].apply(convert_lowercase)"
   ]
  },
  {
   "cell_type": "code",
   "execution_count": 24,
   "id": "3a560192",
   "metadata": {},
   "outputs": [
    {
     "data": {
      "text/plain": [
       "0    madagascar street food super rare malagasi vil...\n",
       "1                   food you need to eat befor you die\n",
       "2                       gordon ramsayâ top indian dish\n",
       "3                  to use chopstick in about a minut ð\n",
       "Name: Title, dtype: object"
      ]
     },
     "execution_count": 24,
     "metadata": {},
     "output_type": "execute_result"
    }
   ],
   "source": [
    "df.loc[0:3,'Title']"
   ]
  },
  {
   "cell_type": "code",
   "execution_count": 25,
   "id": "cafe619d",
   "metadata": {},
   "outputs": [],
   "source": [
    "x=df.iloc[:,0:1].values"
   ]
  },
  {
   "cell_type": "code",
   "execution_count": 26,
   "id": "515b0a3a",
   "metadata": {},
   "outputs": [
    {
     "data": {
      "text/plain": [
       "array([['madagascar street food super rare malagasi villag food'],\n",
       "       ['food you need to eat befor you die'],\n",
       "       ['gordon ramsayâ top indian dish']], dtype=object)"
      ]
     },
     "execution_count": 26,
     "metadata": {},
     "output_type": "execute_result"
    }
   ],
   "source": [
    "x[0:3]\n"
   ]
  },
  {
   "cell_type": "code",
   "execution_count": 27,
   "id": "05ca846d",
   "metadata": {},
   "outputs": [
    {
     "data": {
      "text/plain": [
       "(1600,)"
      ]
     },
     "execution_count": 27,
     "metadata": {},
     "output_type": "execute_result"
    }
   ],
   "source": [
    "y=df.iloc[:,-1].values\n",
    "y.shape"
   ]
  },
  {
   "cell_type": "code",
   "execution_count": 28,
   "id": "2cd49243",
   "metadata": {},
   "outputs": [
    {
     "data": {
      "text/plain": [
       "array([1, 1, 1, ..., 3, 3, 3], dtype=int64)"
      ]
     },
     "execution_count": 28,
     "metadata": {},
     "output_type": "execute_result"
    }
   ],
   "source": [
    "y  #why used"
   ]
  },
  {
   "cell_type": "code",
   "execution_count": 29,
   "id": "caae77ff",
   "metadata": {},
   "outputs": [
    {
     "data": {
      "text/plain": [
       "(1600, 3200)"
      ]
     },
     "execution_count": 29,
     "metadata": {},
     "output_type": "execute_result"
    }
   ],
   "source": [
    "from sklearn.feature_extraction.text import CountVectorizer\n",
    "cv=CountVectorizer(max_features=3200)\n",
    "#extract new word and store in v_obj with index by fit()\n",
    "#Encode the Document using transform\n",
    "\n",
    "x=cv.fit_transform(df['Title']).toarray()\n",
    "x.shape\n"
   ]
  },
  {
   "cell_type": "code",
   "execution_count": 30,
   "id": "131d7843",
   "metadata": {},
   "outputs": [
    {
     "data": {
      "text/plain": [
       "array([[0, 0, 0, ..., 0, 0, 0],\n",
       "       [0, 0, 0, ..., 0, 0, 0],\n",
       "       [0, 0, 0, ..., 0, 0, 0],\n",
       "       ...,\n",
       "       [0, 0, 0, ..., 0, 0, 0],\n",
       "       [0, 0, 0, ..., 0, 0, 0],\n",
       "       [0, 0, 0, ..., 0, 0, 0]], dtype=int64)"
      ]
     },
     "execution_count": 30,
     "metadata": {},
     "output_type": "execute_result"
    }
   ],
   "source": [
    "x"
   ]
  },
  {
   "cell_type": "code",
   "execution_count": 31,
   "id": "5b705914",
   "metadata": {},
   "outputs": [],
   "source": [
    "df = pd.DataFrame(data=x, columns=cv.get_feature_names_out())"
   ]
  },
  {
   "cell_type": "code",
   "execution_count": 32,
   "id": "b34c99f3",
   "metadata": {},
   "outputs": [],
   "source": [
    "keywords= cv.get_feature_names_out()"
   ]
  },
  {
   "cell_type": "code",
   "execution_count": 33,
   "id": "23892853",
   "metadata": {},
   "outputs": [
    {
     "data": {
      "text/plain": [
       "(3200,)"
      ]
     },
     "execution_count": 33,
     "metadata": {},
     "output_type": "execute_result"
    }
   ],
   "source": [
    "keywords.shape"
   ]
  },
  {
   "cell_type": "code",
   "execution_count": 34,
   "id": "2e41dd4c",
   "metadata": {},
   "outputs": [],
   "source": [
    "#Train an test data set split"
   ]
  },
  {
   "cell_type": "code",
   "execution_count": null,
   "id": "a5069696",
   "metadata": {},
   "outputs": [],
   "source": []
  },
  {
   "cell_type": "code",
   "execution_count": 35,
   "id": "b1305331",
   "metadata": {},
   "outputs": [],
   "source": [
    "from sklearn.model_selection import train_test_split\n",
    "X_train, X_test, y_train, y_test =train_test_split(x,y,test_size=0.2)"
   ]
  },
  {
   "cell_type": "code",
   "execution_count": 36,
   "id": "9db52063",
   "metadata": {},
   "outputs": [
    {
     "data": {
      "text/plain": [
       "(1280, 3200)"
      ]
     },
     "execution_count": 36,
     "metadata": {},
     "output_type": "execute_result"
    }
   ],
   "source": [
    "X_train.shape"
   ]
  },
  {
   "cell_type": "code",
   "execution_count": 37,
   "id": "4d559ff8",
   "metadata": {},
   "outputs": [
    {
     "data": {
      "text/plain": [
       "(320, 3200)"
      ]
     },
     "execution_count": 37,
     "metadata": {},
     "output_type": "execute_result"
    }
   ],
   "source": [
    "X_test.shape"
   ]
  },
  {
   "cell_type": "code",
   "execution_count": 38,
   "id": "c6cb62e5",
   "metadata": {},
   "outputs": [
    {
     "data": {
      "text/plain": [
       "(1280,)"
      ]
     },
     "execution_count": 38,
     "metadata": {},
     "output_type": "execute_result"
    }
   ],
   "source": [
    "y_train.shape"
   ]
  },
  {
   "cell_type": "code",
   "execution_count": 39,
   "id": "eda9e1fa",
   "metadata": {},
   "outputs": [
    {
     "data": {
      "text/plain": [
       "5"
      ]
     },
     "execution_count": 39,
     "metadata": {},
     "output_type": "execute_result"
    }
   ],
   "source": [
    "\n",
    "X_train.max()"
   ]
  },
  {
   "cell_type": "code",
   "execution_count": 40,
   "id": "4ddd3177",
   "metadata": {},
   "outputs": [],
   "source": [
    "#Feature scalling\n",
    "# X_train= X_train/3\n",
    "# X_test= X_test/3"
   ]
  },
  {
   "cell_type": "code",
   "execution_count": 41,
   "id": "cebff3aa",
   "metadata": {},
   "outputs": [
    {
     "data": {
      "text/plain": [
       "array([0, 0, 0, ..., 0, 0, 0], dtype=int64)"
      ]
     },
     "execution_count": 41,
     "metadata": {},
     "output_type": "execute_result"
    }
   ],
   "source": [
    "X_train[0]"
   ]
  },
  {
   "cell_type": "code",
   "execution_count": 42,
   "id": "1c0d6dc6",
   "metadata": {
    "scrolled": true
   },
   "outputs": [],
   "source": [
    "import tensorflow\n",
    "from tensorflow import keras\n",
    "from tensorflow.keras import Sequential\n",
    "from tensorflow.keras.layers import Dense,Flatten"
   ]
  },
  {
   "cell_type": "code",
   "execution_count": null,
   "id": "b0e6167b",
   "metadata": {},
   "outputs": [],
   "source": []
  },
  {
   "cell_type": "code",
   "execution_count": 43,
   "id": "e7282c7c",
   "metadata": {},
   "outputs": [
    {
     "data": {
      "text/plain": [
       "array([[0, 0, 0, ..., 0, 0, 0],\n",
       "       [0, 0, 0, ..., 0, 0, 0],\n",
       "       [0, 0, 0, ..., 0, 0, 0],\n",
       "       ...,\n",
       "       [0, 0, 0, ..., 0, 0, 0],\n",
       "       [0, 0, 0, ..., 0, 1, 0],\n",
       "       [0, 0, 0, ..., 0, 0, 0]], dtype=int64)"
      ]
     },
     "execution_count": 43,
     "metadata": {},
     "output_type": "execute_result"
    }
   ],
   "source": [
    "X_train"
   ]
  },
  {
   "cell_type": "code",
   "execution_count": 44,
   "id": "ee1d1ea2",
   "metadata": {},
   "outputs": [],
   "source": [
    "#creating model\n",
    "\n",
    "from keras.models import Sequential\n",
    "model= Sequential()\n",
    "\n",
    "model.add( Dense(128, input_dim=3200, activation='sigmoid'))\n",
    "model.add( Dense(4,activation='softmax'))"
   ]
  },
  {
   "cell_type": "code",
   "execution_count": 45,
   "id": "d11a59e6",
   "metadata": {},
   "outputs": [
    {
     "name": "stdout",
     "output_type": "stream",
     "text": [
      "Model: \"sequential\"\n",
      "_________________________________________________________________\n",
      " Layer (type)                Output Shape              Param #   \n",
      "=================================================================\n",
      " dense (Dense)               (None, 128)               409728    \n",
      "                                                                 \n",
      " dense_1 (Dense)             (None, 4)                 516       \n",
      "                                                                 \n",
      "=================================================================\n",
      "Total params: 410,244\n",
      "Trainable params: 410,244\n",
      "Non-trainable params: 0\n",
      "_________________________________________________________________\n"
     ]
    }
   ],
   "source": [
    "model.summary()"
   ]
  },
  {
   "cell_type": "code",
   "execution_count": 46,
   "id": "dc062244",
   "metadata": {},
   "outputs": [],
   "source": [
    "model.compile(optimizer='adam', loss='sparse_categorical_crossentropy')"
   ]
  },
  {
   "cell_type": "code",
   "execution_count": 47,
   "id": "020b758d",
   "metadata": {},
   "outputs": [],
   "source": [
    "# import tensorflow as tf\n",
    "\n",
    "# X_train_tensor = tf.convert_to_tensor(X_train, dtype=tf.float32)\n",
    "# y_train_tensor = tf.convert_to_tensor(y_train, dtype=tf.int32)"
   ]
  },
  {
   "cell_type": "code",
   "execution_count": 48,
   "id": "3630490a",
   "metadata": {},
   "outputs": [
    {
     "name": "stdout",
     "output_type": "stream",
     "text": [
      "Epoch 1/6\n",
      "32/32 [==============================] - 1s 13ms/step - loss: 1.3068 - val_loss: 1.2249\n",
      "Epoch 2/6\n",
      "32/32 [==============================] - 0s 8ms/step - loss: 1.0988 - val_loss: 1.0644\n",
      "Epoch 3/6\n",
      "32/32 [==============================] - 0s 8ms/step - loss: 0.9268 - val_loss: 0.9264\n",
      "Epoch 4/6\n",
      "32/32 [==============================] - 0s 8ms/step - loss: 0.7663 - val_loss: 0.7983\n",
      "Epoch 5/6\n",
      "32/32 [==============================] - 0s 9ms/step - loss: 0.6241 - val_loss: 0.6926\n",
      "Epoch 6/6\n",
      "32/32 [==============================] - 0s 9ms/step - loss: 0.5046 - val_loss: 0.5934\n"
     ]
    },
    {
     "data": {
      "text/plain": [
       "<keras.callbacks.History at 0x171bb652890>"
      ]
     },
     "execution_count": 48,
     "metadata": {},
     "output_type": "execute_result"
    }
   ],
   "source": [
    "model.fit(X_train, y_train, epochs=6, validation_split=0.2)"
   ]
  },
  {
   "cell_type": "code",
   "execution_count": 49,
   "id": "50b409a2",
   "metadata": {},
   "outputs": [
    {
     "name": "stdout",
     "output_type": "stream",
     "text": [
      "10/10 [==============================] - 0s 3ms/step\n"
     ]
    }
   ],
   "source": [
    "# probablity of each row with class label\n",
    "y_prob = model.predict(X_test)"
   ]
  },
  {
   "cell_type": "code",
   "execution_count": 50,
   "id": "6e705a44",
   "metadata": {},
   "outputs": [
    {
     "data": {
      "text/plain": [
       "array([[0.15207629, 0.20226115, 0.45012495, 0.19553763],\n",
       "       [0.06217979, 0.06612729, 0.14189194, 0.72980094],\n",
       "       [0.15247598, 0.16767019, 0.17847657, 0.5013772 ],\n",
       "       [0.62647086, 0.10352749, 0.10316074, 0.16684085]], dtype=float32)"
      ]
     },
     "execution_count": 50,
     "metadata": {},
     "output_type": "execute_result"
    }
   ],
   "source": [
    "y_prob[1:5]"
   ]
  },
  {
   "cell_type": "code",
   "execution_count": 51,
   "id": "bed2e86f",
   "metadata": {},
   "outputs": [],
   "source": [
    "\n",
    "y_pred= y_prob.argmax(axis =1)"
   ]
  },
  {
   "cell_type": "code",
   "execution_count": 52,
   "id": "1dda30ec",
   "metadata": {},
   "outputs": [
    {
     "data": {
      "text/plain": [
       "array([1, 2, 3, 3, 0, 0, 3, 2, 2, 0, 0, 1, 1, 3, 0, 0, 3, 1, 0, 1, 3, 0,\n",
       "       0, 2, 0, 0, 0, 2, 1, 2, 0, 2, 1, 1, 0, 2, 3, 1, 3, 3, 3, 2, 1, 3,\n",
       "       0, 2, 3, 0, 2, 2, 2, 1, 2, 3, 2, 0, 3, 0, 2, 2, 2, 2, 2, 1, 1, 3,\n",
       "       0, 1, 0, 2, 1, 3, 2, 0, 1, 3, 2, 2, 0, 2, 2, 3, 2, 0, 3, 3, 1, 2,\n",
       "       1, 3, 2, 2, 3, 1, 1, 2, 0, 2, 3, 2, 3, 2, 2, 3, 1, 0, 1, 0, 0, 2,\n",
       "       0, 2, 3, 2, 3, 3, 3, 1, 1, 2, 2, 0, 3, 0, 1, 2, 1, 3, 3, 1, 0, 1,\n",
       "       3, 0, 0, 1, 0, 0, 3, 1, 0, 2, 0, 2, 3, 3, 0, 1, 2, 3, 3, 0, 3, 3,\n",
       "       0, 0, 3, 3, 0, 2, 2, 0, 1, 2, 2, 3, 2, 3, 0, 2, 3, 2, 2, 1, 3, 2,\n",
       "       2, 1, 2, 2, 0, 2, 1, 2, 3, 2, 1, 0, 0, 2, 0, 1, 0, 2, 0, 0, 1, 1,\n",
       "       2, 2, 2, 2, 1, 1, 2, 1, 1, 1, 1, 0, 3, 0, 3, 1, 1, 3, 2, 1, 2, 2,\n",
       "       2, 0, 1, 3, 1, 3, 2, 3, 0, 2, 3, 3, 3, 0, 0, 2, 2, 2, 1, 1, 2, 2,\n",
       "       2, 2, 2, 1, 2, 2, 1, 0, 3, 2, 0, 2, 0, 1, 3, 0, 0, 0, 2, 2, 0, 2,\n",
       "       3, 0, 2, 0, 3, 2, 2, 3, 2, 2, 2, 3, 3, 2, 3, 2, 3, 0, 0, 2, 0, 2,\n",
       "       0, 2, 1, 1, 1, 2, 3, 0, 2, 0, 3, 0, 0, 1, 3, 3, 0, 0, 2, 3, 2, 1,\n",
       "       0, 3, 2, 0, 2, 0, 2, 1, 2, 1, 2, 3], dtype=int64)"
      ]
     },
     "execution_count": 52,
     "metadata": {},
     "output_type": "execute_result"
    }
   ],
   "source": [
    "y_pred"
   ]
  },
  {
   "cell_type": "code",
   "execution_count": 53,
   "id": "138cf5b3",
   "metadata": {},
   "outputs": [
    {
     "data": {
      "text/plain": [
       "0.8875"
      ]
     },
     "execution_count": 53,
     "metadata": {},
     "output_type": "execute_result"
    }
   ],
   "source": [
    "# calculate accuracy\n",
    "\n",
    "from sklearn.metrics import accuracy_score\n",
    "accuracy_score( y_test, y_pred)"
   ]
  },
  {
   "cell_type": "code",
   "execution_count": 54,
   "id": "8bc9dd19",
   "metadata": {},
   "outputs": [
    {
     "data": {
      "text/plain": [
       "array([0, 0, 0, ..., 0, 0, 0], dtype=int64)"
      ]
     },
     "execution_count": 54,
     "metadata": {},
     "output_type": "execute_result"
    }
   ],
   "source": [
    "X_test[0]"
   ]
  },
  {
   "cell_type": "code",
   "execution_count": 55,
   "id": "2891bc28",
   "metadata": {},
   "outputs": [
    {
     "data": {
      "text/plain": [
       "array([1, 2, 3, 3, 0, 0, 3, 2, 2, 0, 0, 1, 1, 3, 0, 0, 3, 1, 0, 1, 3, 0,\n",
       "       0, 2, 0, 0, 0, 2, 1, 2, 0, 2, 1, 1, 0, 2, 3, 1, 3, 3, 3, 2, 1, 3,\n",
       "       0, 2, 3, 0, 2, 2, 2, 1, 2, 3, 2, 0, 3, 0, 2, 2, 2, 2, 2, 1, 1, 3,\n",
       "       0, 1, 0, 2, 1, 3, 2, 0, 1, 3, 2, 2, 0, 2, 2, 3, 2, 0, 3, 3, 1, 2,\n",
       "       1, 3, 2, 2, 3, 1, 1, 2, 0, 2, 3, 2, 3, 2, 2, 3, 1, 0, 1, 0, 0, 2,\n",
       "       0, 2, 3, 2, 3, 3, 3, 1, 1, 2, 2, 0, 3, 0, 1, 2, 1, 3, 3, 1, 0, 1,\n",
       "       3, 0, 0, 1, 0, 0, 3, 1, 0, 2, 0, 2, 3, 3, 0, 1, 2, 3, 3, 0, 3, 3,\n",
       "       0, 0, 3, 3, 0, 2, 2, 0, 1, 2, 2, 3, 2, 3, 0, 2, 3, 2, 2, 1, 3, 2,\n",
       "       2, 1, 2, 2, 0, 2, 1, 2, 3, 2, 1, 0, 0, 2, 0, 1, 0, 2, 0, 0, 1, 1,\n",
       "       2, 2, 2, 2, 1, 1, 2, 1, 1, 1, 1, 0, 3, 0, 3, 1, 1, 3, 2, 1, 2, 2,\n",
       "       2, 0, 1, 3, 1, 3, 2, 3, 0, 2, 3, 3, 3, 0, 0, 2, 2, 2, 1, 1, 2, 2,\n",
       "       2, 2, 2, 1, 2, 2, 1, 0, 3, 2, 0, 2, 0, 1, 3, 0, 0, 0, 2, 2, 0, 2,\n",
       "       3, 0, 2, 0, 3, 2, 2, 3, 2, 2, 2, 3, 3, 2, 3, 2, 3, 0, 0, 2, 0, 2,\n",
       "       0, 2, 1, 1, 1, 2, 3, 0, 2, 0, 3, 0, 0, 1, 3, 3, 0, 0, 2, 3, 2, 1,\n",
       "       0, 3, 2, 0, 2, 0, 2, 1, 2, 1, 2, 3], dtype=int64)"
      ]
     },
     "execution_count": 55,
     "metadata": {},
     "output_type": "execute_result"
    }
   ],
   "source": [
    "y_pred"
   ]
  },
  {
   "cell_type": "code",
   "execution_count": 56,
   "id": "c90f362c",
   "metadata": {},
   "outputs": [
    {
     "data": {
      "text/plain": [
       "array([1, 2, 3, 3, 0, 0, 3, 2, 2, 0, 0, 1, 1, 3, 0, 0, 3, 3, 0, 1, 3, 0,\n",
       "       0, 2, 0, 0, 3, 2, 1, 2, 0, 3, 1, 1, 0, 2, 3, 1, 0, 0, 3, 2, 1, 3,\n",
       "       0, 2, 3, 0, 2, 2, 2, 1, 2, 3, 2, 0, 3, 0, 2, 2, 3, 2, 3, 1, 1, 3,\n",
       "       0, 1, 0, 2, 1, 3, 2, 0, 3, 0, 1, 2, 0, 2, 2, 3, 2, 0, 3, 3, 1, 2,\n",
       "       1, 3, 2, 2, 3, 1, 1, 2, 0, 2, 3, 2, 3, 3, 2, 3, 1, 0, 1, 0, 0, 2,\n",
       "       0, 2, 3, 1, 3, 3, 3, 1, 1, 2, 2, 0, 3, 0, 1, 2, 1, 3, 3, 1, 0, 1,\n",
       "       3, 0, 0, 1, 0, 3, 3, 1, 0, 3, 0, 3, 0, 0, 0, 1, 2, 0, 3, 0, 3, 3,\n",
       "       0, 0, 3, 3, 0, 2, 2, 0, 1, 2, 2, 3, 3, 3, 0, 2, 3, 2, 2, 1, 3, 3,\n",
       "       2, 1, 2, 2, 0, 2, 1, 2, 3, 2, 1, 0, 0, 2, 0, 1, 0, 3, 0, 0, 1, 1,\n",
       "       2, 2, 2, 3, 1, 1, 2, 1, 1, 1, 1, 0, 3, 0, 0, 1, 1, 3, 3, 1, 2, 2,\n",
       "       2, 0, 1, 0, 1, 3, 2, 3, 0, 2, 0, 3, 0, 0, 0, 2, 2, 2, 1, 3, 2, 2,\n",
       "       2, 2, 2, 1, 2, 2, 1, 0, 3, 2, 3, 2, 0, 1, 3, 0, 0, 0, 2, 2, 0, 2,\n",
       "       3, 0, 2, 0, 3, 2, 2, 3, 0, 2, 2, 3, 3, 2, 3, 2, 3, 0, 0, 2, 0, 3,\n",
       "       0, 2, 1, 1, 1, 2, 3, 3, 2, 0, 3, 3, 0, 1, 2, 3, 0, 3, 2, 3, 3, 1,\n",
       "       0, 3, 2, 0, 2, 0, 2, 1, 2, 1, 2, 3], dtype=int64)"
      ]
     },
     "execution_count": 56,
     "metadata": {},
     "output_type": "execute_result"
    }
   ],
   "source": [
    "y_test"
   ]
  },
  {
   "cell_type": "code",
   "execution_count": 57,
   "id": "fc2ce1a2",
   "metadata": {},
   "outputs": [
    {
     "name": "stdout",
     "output_type": "stream",
     "text": [
      "1/1 [==============================] - 0s 61ms/step\n"
     ]
    }
   ],
   "source": [
    "x= model.predict(X_test[2].reshape(1,3200)).argmax(axis =1)"
   ]
  },
  {
   "cell_type": "code",
   "execution_count": 58,
   "id": "b95ee903",
   "metadata": {},
   "outputs": [
    {
     "data": {
      "text/plain": [
       "array([3], dtype=int64)"
      ]
     },
     "execution_count": 58,
     "metadata": {},
     "output_type": "execute_result"
    }
   ],
   "source": [
    "x"
   ]
  },
  {
   "cell_type": "code",
   "execution_count": 59,
   "id": "9b5f9c85",
   "metadata": {},
   "outputs": [
    {
     "data": {
      "text/plain": [
       "array([0, 0, 0, ..., 0, 0, 0], dtype=int64)"
      ]
     },
     "execution_count": 59,
     "metadata": {},
     "output_type": "execute_result"
    }
   ],
   "source": [
    "X_test[0]"
   ]
  },
  {
   "cell_type": "code",
   "execution_count": null,
   "id": "93973fa4",
   "metadata": {},
   "outputs": [],
   "source": []
  },
  {
   "cell_type": "code",
   "execution_count": null,
   "id": "b8b78ea9",
   "metadata": {},
   "outputs": [],
   "source": []
  },
  {
   "cell_type": "code",
   "execution_count": 60,
   "id": "1a6b07dd",
   "metadata": {},
   "outputs": [],
   "source": [
    "pickle.dump(model,open(\"set2_model.pkl\",'wb'))"
   ]
  },
  {
   "cell_type": "code",
   "execution_count": 61,
   "id": "53b9fa52",
   "metadata": {},
   "outputs": [],
   "source": [
    "pickle.dump(X_test,open(\"set2_test_data.pkl\",'wb'))"
   ]
  },
  {
   "cell_type": "code",
   "execution_count": 62,
   "id": "215bdd1d",
   "metadata": {},
   "outputs": [],
   "source": [
    "pickle.dump(keywords,open(\"keyword.pkl\",'wb'))"
   ]
  },
  {
   "cell_type": "code",
   "execution_count": null,
   "id": "81f15027",
   "metadata": {},
   "outputs": [],
   "source": []
  },
  {
   "cell_type": "code",
   "execution_count": 63,
   "id": "e48fc35e",
   "metadata": {},
   "outputs": [],
   "source": [
    "remove_special1 = pickle.load(open('D:/Flask/SET2/remove_special.pkl', 'rb'))\n"
   ]
  },
  {
   "cell_type": "code",
   "execution_count": 64,
   "id": "9f65243d",
   "metadata": {},
   "outputs": [],
   "source": [
    "title= remove_special1(\"Jack Ma's life-changing advice for young people\")"
   ]
  },
  {
   "cell_type": "code",
   "execution_count": 65,
   "id": "4eec9179",
   "metadata": {},
   "outputs": [
    {
     "data": {
      "text/plain": [
       "'Jack Mas lifechanging advice for young people '"
      ]
     },
     "execution_count": 65,
     "metadata": {},
     "output_type": "execute_result"
    }
   ],
   "source": [
    "title"
   ]
  },
  {
   "cell_type": "code",
   "execution_count": null,
   "id": "c599cca2",
   "metadata": {},
   "outputs": [],
   "source": []
  },
  {
   "cell_type": "code",
   "execution_count": null,
   "id": "525fc205",
   "metadata": {},
   "outputs": [],
   "source": []
  }
 ],
 "metadata": {
  "kernelspec": {
   "display_name": "Python 3 (ipykernel)",
   "language": "python",
   "name": "python3"
  },
  "language_info": {
   "codemirror_mode": {
    "name": "ipython",
    "version": 3
   },
   "file_extension": ".py",
   "mimetype": "text/x-python",
   "name": "python",
   "nbconvert_exporter": "python",
   "pygments_lexer": "ipython3",
   "version": "3.11.3"
  }
 },
 "nbformat": 4,
 "nbformat_minor": 5
}
